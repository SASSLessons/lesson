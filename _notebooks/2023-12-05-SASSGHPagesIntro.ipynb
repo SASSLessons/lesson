{
 "cells": [
  {
   "cell_type": "markdown",
   "metadata": {},
   "source": [
    "---\n",
    "toc: true\n",
    "comments: false\n",
    "layout: post\n",
    "title: Introduction to SASS & GitHub Pages\n",
    "description: Lesson Introduction Modules\n",
    "type: plans\n",
    "courses: { csa: {week: 0} }\n",
    "---"
   ]
  },
  {
   "cell_type": "markdown",
   "metadata": {},
   "source": [
    "# Introduction to SASS\n",
    "\n",
    "SASS (Syntactically Awesome Stylesheets) is a powerful preprocessor scripting language that enhances CSS with advanced features. It's compiled into standard CSS, making it a robust tool for modern web development.\n",
    "\n",
    "## Benefits Over Traditional CSS\n",
    "\n",
    "### Improved Code Organization\n",
    "- **Nesting Capabilities**: SASS allows you to nest your CSS selectors in a way that follows the same visual hierarchy of your HTML.\n",
    "- **Modular Approach**: You can split your CSS into multiple files (partials) and import them into a main file, making your project more organized.\n",
    "\n",
    "### Maintainability\n",
    "- **Use of Variables**: Define colors, fonts, and other CSS values as variables for easy updates and consistency across the project.\n",
    "- **Mixins for Reusable Code**: Create reusable pieces of code for things like buttons, forms, which can be included wherever needed.\n",
    "- **Extend/Inheritance**: Share a set of CSS properties from one selector to another, reducing the amount of code you need to write and maintain.\n",
    "\n",
    "### Advanced Features\n",
    "- **Control Directives**: Use if/else statements and for/each loops in your CSS, which are not possible in plain CSS.\n",
    "- **Built-in Functions**: SASS offers functions for color manipulation, mathematics and more, enhancing the functionality of CSS.\n",
    "- **Compatibility**: Automatically handles browser prefixing, ensuring that your styles work across different browsers without extra code.\n",
    "\n",
    "# SASS Basics\n",
    "\n",
    "## Preprocessing\n",
    "- **Functionality**: Sass enhances CSS with features like nesting, mixins, inheritance, and more.\n",
    "- **Compilation**: Sass files are preprocessed to generate standard CSS files.\n",
    "- **Usage**: Use the `sass` command in the terminal to compile Sass files. For example, `sass input.sass output.css`.\n",
    "- **Watching Files**: The `--watch` flag allows Sass to monitor files for changes and recompile automatically.\n",
    "\n",
    "```sass\n",
    "// Command to compile Sass\n",
    "sass input.sass output.css\n",
    "\n",
    "// Command to watch and compile Sass\n",
    "sass --watch input.sass output.css\n",
    "```\n",
    "\n",
    "## Variables\n",
    "- **Purpose**: Store reusable values like colors, fonts, etc.\n",
    "- **Syntax**: Defined with the `$` symbol, e.g., `$primary-color: #333`.\n",
    "- **Advantage**: Simplifies updates and maintains consistency.\n",
    "\n",
    "```sass\n",
    "\n",
    "$primary-color: #333\n",
    "body\n",
    "  color: $primary-color\n",
    "```\n",
    "\n",
    "## Nesting\n",
    "- **Concept**: Allows CSS selectors to be nested within each other, mirroring HTML structure.\n",
    "- **Caution**: Over-nesting can lead to complicated and hard-to-maintain CSS.\n",
    "\n",
    "```sass\n",
    "\n",
    "nav\n",
    "  ul\n",
    "    margin: 0\n",
    "    padding: 0\n",
    "    list-style: none\n",
    "  li\n",
    "    display: inline-block\n",
    "  a\n",
    "    display: block\n",
    "    padding: 6px 12px\n",
    "    text-decoration: none\n",
    "```\n",
    "\n",
    "## Partials\n",
    "- **Function**: Small snippets of CSS can be included in other Sass files.\n",
    "- **Naming**: Partial files are named with a leading underscore, e.g., `_partial.sass`.\n",
    "- **Importing**: Use the `@use` rule to include partials in other Sass files.\n",
    "\n",
    "```sass\n",
    "\n",
    "// In _partial.sass\n",
    "$font-stack: Helvetica, sans-serif\n",
    "\n",
    "// In main.sass\n",
    "@use 'partial'\n",
    "body\n",
    "  font: 100% partial.$font-stack\n",
    "```\n",
    "\n",
    "## Modules\n",
    "- **Splitting Code**: Sass allows splitting code into multiple files.\n",
    "- **@use Rule**: Loads another Sass file as a module, enabling access to its variables, mixins, and functions.\n",
    "- **Namespace**: Refer to module contents using a namespace based on the filename.\n",
    "\n",
    "```sass\n",
    "\n",
    "// In _base.sass\n",
    "$primary-color: #333\n",
    "\n",
    "// In styles.sass\n",
    "@use 'base'\n",
    ".inverse\n",
    "  background-color: base.$primary-color\n",
    "  color: white\n",
    "```\n",
    "\n",
    "## Mixins\n",
    "- **Purpose**: Create reusable groups of CSS declarations.\n",
    "- **Flexibility**: Mixins can accept values to make them more dynamic.\n",
    "- **Syntax**: Defined with `@mixin` and included with `@include`.\n",
    "\n",
    "```sass\n",
    "\n",
    "@mixin border-radius($radius)\n",
    "  -webkit-border-radius: $radius\n",
    "  -moz-border-radius: $radius\n",
    "  border-radius: $radius\n",
    "\n",
    ".box\n",
    "  @include border-radius(10px)\n",
    "```\n",
    "\n",
    "## Inheritance and Extend\n",
    "- **@extend**: Share CSS properties between selectors.\n",
    "- **Placeholder Classes**: Special classes that only print when extended, keeping CSS neat.\n",
    "- **Usage**: Helps avoid repetitive class names in HTML.\n",
    "\n",
    "```sass\n",
    "\n",
    "%message-shared\n",
    "  border: 1px solid #ccc\n",
    "  padding: 10px\n",
    "  color: #333\n",
    "\n",
    ".message\n",
    "  @extend %message-shared\n",
    "\n",
    ".success\n",
    "  @extend %message-shared\n",
    "  border-color: green\n",
    "```\n",
    "\n",
    "## Operators\n",
    "- **Math Operations**: Sass supports standard math operators for calculations within CSS.\n",
    "- **Example**: Calculating widths for a fluid grid using operations like `math.div()`.\n",
    "\n",
    "```sass\n",
    "\n",
    ".container\n",
    "  display: flex\n",
    "article[role=\"main\"]\n",
    "  width: 600px / 960px * 100%\n",
    "aside[role=\"complementary\"]\n",
    "  width: 300px / 960px * 100%\n",
    "  margin-left: auto\n",
    "```"
   ]
  },
  {
   "cell_type": "markdown",
   "metadata": {},
   "source": [
    "<h1>SASS Role in Design:</h1>"
   ]
  },
  {
   "cell_type": "markdown",
   "metadata": {},
   "source": [
    "In the design phase of any project, maintaining uniformity is extremely important for creating a polished look. SASS allows for this by allowing the use of variables to store and reuse colors, fonts, and other design elements.\n",
    "\n",
    "This makes it so that there is a ________ theme applied throughout the entire project. SASS allows for visual cohesion."
   ]
  },
  {
   "cell_type": "markdown",
   "metadata": {},
   "source": [
    "<h2>Visual Concept as a Blueprint</h2>"
   ]
  },
  {
   "cell_type": "markdown",
   "metadata": {},
   "source": [
    "Before going into the functional code, it is very important to create a visual concept or design mockup. This is a model for the project, which gives a clear visual representation for the final product. It allows for a scrum team to align on the aesthetics and overall design direction."
   ]
  },
  {
   "cell_type": "markdown",
   "metadata": {},
   "source": [
    "This also allows for feedback and _______. People can make adjustments to the visual elements without complexity of functional code, and it makes sure that all requirements are met. "
   ]
  },
  {
   "cell_type": "markdown",
   "metadata": {},
   "source": [
    "These visual concepts also play a role in planning the _______ design. The team members can visualize how layouts and styles are adapted for different ________ _________, so that all users can have a great visual experience across all types of devices. "
   ]
  },
  {
   "cell_type": "markdown",
   "metadata": {},
   "source": [
    "<h1>Hacks</h1>"
   ]
  },
  {
   "cell_type": "markdown",
   "metadata": {},
   "source": [
    "**Explore SASS documentation to discover any additional features not covered in the lesson and implement one or more of these features in your GH Pages project. Write a couple sentences explaining the feature and demonstrate it.**"
   ]
  }
 ],
 "metadata": {
  "kernelspec": {
   "display_name": "base",
   "language": "python",
   "name": "python3"
  },
  "language_info": {
   "codemirror_mode": {
    "name": "ipython",
    "version": 3
   },
   "file_extension": ".py",
   "mimetype": "text/x-python",
   "name": "python",
   "nbconvert_exporter": "python",
   "pygments_lexer": "ipython3",
   "version": "3.9.12"
  }
 },
 "nbformat": 4,
 "nbformat_minor": 2
}
