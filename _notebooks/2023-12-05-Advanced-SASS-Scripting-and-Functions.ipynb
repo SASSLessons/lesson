{
 "cells": [
  {
   "cell_type": "markdown",
   "metadata": {},
   "source": [
    "---\n",
    "toc: true\n",
    "comments: false\n",
    "layout: post\n",
    "title: Advanced SASS Scripting and Functions\n",
    "description: Exploring SASS scripting, @for loops, conditional statements, and custom functions for powerful styles.\n",
    "type: plans\n",
    "courses: { compsci: {week: 2} }\n",
    "---"
   ]
  },
  {
   "cell_type": "markdown",
   "metadata": {},
   "source": [
    "# SASS Scripting and Functions: Unleashing the Power\n",
    "## 1. @for Loops and Conditional Statements in SASS\n",
    "\n",
    "SASS provides powerful scripting capabilities through @for loops and conditional statements. Let's dive into some practical examples:\n"
   ]
  },
  {
   "cell_type": "code",
   "metadata": {},
   "source": [
    "// SASS Syntax\n",
    "$grid-columns: 12;\n",
    "\n",
    "// Example of @for loop\n",
    "@for $i from 1 through $grid-columns {\n",
    "  .col-#{$i} {\n",
    "    width: percentage($i / $grid-columns);\n",
    "  }\n",
    "}\n",
    "\n",
    "// Example of conditional statement\n",
    ".alert {\n",
    "  @if $theme == 'dark' {\n",
    "    background-color: #333;\n",
    "    color: #fff;\n",
    "  } @else {\n",
    "    background-color: #fff;\n",
    "    color: #333;\n",
    "  }\n",
    "}\n",
    "\n",
    "// Output: Showcase the generated CSS for @for loop and conditional statement\n",
    "/* Output for @for loop */\n",
    ".col-1 { width: 8.33333%; }\n",
    ".col-2 { width: 16.66667%; }\n",
    "... (output for other columns)\n",
    "\n",
    "/* Output for conditional statement */\n",
    ".alert {\n",
    "  background-color: #333;\n",
    "  color: #fff;\n",
    "}\n"
   ]
  },
  {
   "cell_type": "markdown",
   "metadata": {},
   "source": [
    "In this code snippet, we use @for loop to generate grid columns dynamically and showcase a conditional statement for a theming scenario.\n",
    "\n",
    "## 2. Exploring Built-in Functions and Creating Custom Functions\n",
    "\n",
    "SASS comes with a variety of built-in functions. Let's explore some and create a custom function for a practical use case:\n"
   ]
  },
  {
   "cell_type": "code",
   "metadata": {},
   "source": [
    "// SASS Syntax\n",
    "$base-font-size: 14px;\n",
    "\n",
    "// Example of built-in functions\n",
    ".element {\n",
    "  font-size: $base-font-size;\n",
    "  margin: round(1.5 * $base-font-size);\n",
    "}\n",
    "\n",
    "// Example of custom function\n",
    "@function calculate-border-radius($radius) {\n",
    "  @if $radius >= 0 {\n",
    "    @return $radius * 2;\n",
    "  } @else {\n",
    "    @return 0;\n",
    "  }\n",
    "}\n",
    "\n",
    ".box {\n",
    "  border-radius: calculate-border-radius(8px);\n",
    "}\n",
    "\n",
    "// Output: Showcase the generated CSS for built-in functions and custom function\n",
    "/* Output for built-in functions */\n",
    ".element {\n",
    "  font-size: 14px;\n",
    "  margin: 21px;\n",
    "}\n",
    "\n",
    "/* Output for custom function */\n",
    ".box {\n",
    "  border-radius: 16px;\n",
    "}\n"
   ]
  },
  {
   "cell_type": "markdown",
   "metadata": {},
   "source": [
    "In this section, we demonstrate the use of built-in functions like `round()` and create a custom function `calculate-border-radius` for flexible border-radius calculation.\n",
    "\n",
    "Feel free to experiment with these examples in your SASS projects and unleash the full potential of SASS scripting and functions!"
   ]
  }
 ],
 "metadata": {
  "language_info": {
   "name": "python"
  }
 },
 "nbformat": 4,
 "nbformat_minor": 2
}
