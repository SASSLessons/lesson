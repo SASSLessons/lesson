{
 "cells": [
  {
   "cell_type": "markdown",
   "metadata": {},
   "source": [
    "---\n",
    "toc: true\n",
    "comments: false\n",
    "layout: post\n",
    "title: Customizing Styles with SASS (Basic)\n",
    "description: How to use certain SASS methods to customize styles on a page.\n",
    "type: plans\n",
    "courses: { compsci: {week: 1} }\n",
    "---"
   ]
  },
  {
   "cell_type": "markdown",
   "metadata": {},
   "source": [
    "# Handling Errors and Debugging in Sass\n",
    "## 1. @error Directive:\n",
    "\n",
    "The @error directive is used to raise an error and stop the Sass compilation process if a certain condition is not met. It's helpful for catching issues early in the development process.\n",
    "\n",
    "Example:"
   ]
  },
  {
   "cell_type": "markdown",
   "metadata": {},
   "source": [
    "```sass\n",
    "// SCSS Syntax\n",
    "$primary-color: #3498db;\n",
    "\n",
    "@mixin validate-color($color) {\n",
    "  @if type-of($color) != color {\n",
    "    @error \"Invalid color provided: #{$color}. Please provide a valid color.\";\n",
    "  }\n",
    "}\n",
    "\n",
    ".element {\n",
    "  background-color: $primary-color;\n",
    "  @include validate-color($primary-color);\n",
    "}\n",
    "```\n"
   ]
  },
  {
   "cell_type": "code",
   "metadata": {},
   "execution_count": 1,
   "outputs": [
    {
     "output_type": "display_data",
     "metadata": {},
     "data": {
      "text/html": [
       "<div style=\"background-color: #3498db; padding: 20px;\">\n",
       "  <p style=\"color: #fff;\">This is an example element with a primary color background.</p>\n",
       "</div>"
      ]
     }
    }
   ],
   "source": [
    "%%html\n",
    "<div style=\"background-color: #3498db; padding: 20px;\">\n",
    "  <p style=\"color: #fff;\">This is an example element with a primary color background.</p>\n",
    "</div>"
   ]
  },
  {
   "cell_type": "markdown",
   "metadata": {},
   "source": [
    "In this example, if the provided color is not valid, the Sass compilation will stop, and an error message will be displayed.\n",
    "\n",
    "## 2. @debug Directive:\n",
    "\n",
    "The @debug directive is used to print messages to the Sass output. It's a handy tool for inspecting variable values, checking the flow of your code, and identifying issues during development.\n",
    "\n",
    "Example:"
   ]
  },
  {
   "cell_type": "markdown",
   "metadata": {},
   "source": [
    "```sass\n",
    "// SCSS Syntax\n",
    "$font-size-base: 16px;\n",
    "\n",
    "@function calculate-line-height($font-size) {\n",
    "  @debug \"Calculating line height for font size: #{$font-size}px\";\n",
    "\n",
    "  $line-height-ratio: 1.5; \n",
    "  $line-height: $font-size * $line-height-ratio;\n",
    "\n",
    "  @return $line-height;\n",
    "}\n",
    "body {\n",
    "  font-size: $font-size-base;\n",
    "  line-height: calculate-line-height($font-size-base);\n",
    "}\n",
    "\n",
    "```"
   ]
  },
  {
   "cell_type": "code",
   "metadata": {},
   "execution_count": 2,
   "outputs": [
    {
     "output_type": "display_data",
     "metadata": {},
     "data": {
      "text/html": [
       "<style>\n",
       "  body {\n",
       "    font-size: 16px;\n",
       "    line-height: 24px; /* Calculated line height */\n",
       "  }\n",
       "</style>"
      ]
     }
    }
   ],
   "source": [
    "%%html\n",
    "<style>\n",
    "  body {\n",
    "    font-size: 16px;\n",
    "    line-height: 24px; /* Calculated line height */\n",
    "  }\n",
    "</style>"
   ]
  },
  {
   "cell_type": "markdown",
   "metadata": {},
   "source": [
    "In this example, the @debug statement will print a message to the console during Sass compilation, providing information about the font size being used and assisting in identifying any potential issues."
   ]
  }
 ],
 "metadata": {
  "language_info": {
   "name": "python"
  }
 },
 "nbformat": 4,
 "nbformat_minor": 2
}
