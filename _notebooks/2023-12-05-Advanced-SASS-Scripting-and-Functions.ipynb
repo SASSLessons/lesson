{
 "cells": [
  {
   "cell_type": "markdown",
   "metadata": {},
   "source": [
    "---\n",
    "toc: true\n",
    "comments: false\n",
    "layout: post\n",
    "title: Customizing Styles with SASS (Basic)\n",
    "description: How to use certain SASS methods to customize styles on a page.\n",
    "type: plans\n",
    "courses: { compsci: {week: 1} }\n",
    "---"
   ]
  },
  {
   "cell_type": "markdown",
   "metadata": {},
   "source": [
    "# Handling Errors and Debugging in Sass\n",
    "## 1. @error Directive:\n",
    "\n",
    "The @error directive is used to raise an error and stop the Sass compilation process if a certain condition is not met. It's helpful for catching issues early in the development process.\n",
    "\n",
    "```sass\n",
    "// SCSS Syntax\n",
    "$primary-color: #3498db; // Change this to an invalid color, e.g., 'red'\n",
    "\n",
    "@mixin validate-color($color) {\n",
    "  @if type-of($color) != color {\n",
    "    @error \"Invalid color provided: #{$color}. Please provide a valid color.\";\n",
    "  }\n",
    "}\n",
    "\n",
    ".element {\n",
    "  background-color: $primary-color;\n",
    "  @include validate-color($primary-color);\n",
    "}\n",
    "```"
   ]
  },
  {
   "cell_type": "code",
   "execution_count": 1,
   "metadata": {},
   "outputs": [
    {
     "data": {
      "text/html": [
       "<div style=\"background-color: #3498db; padding: 20px;\">\n",
       "  <p style=\"color: #fff;\">This is an example element with a primary color background.</p>\n",
       "</div>"
      ]
     },
     "metadata": {},
     "output_type": "display_data"
    }
   ],
   "source": [
    "%%html\n",
    "<div style=\"background-color: #3498db; padding: 20px;\">\n",
    "  <p style=\"color: #fff;\">This is an example element with a primary color background.</p>\n",
    "</div>"
   ]
  },
  {
   "cell_type": "markdown",
   "metadata": {},
   "source": [
    "In this example, if the provided color is not valid, the Sass compilation will stop, and an error message will be displayed.\n",
    "\n",
    "## 2. @debug Directive:\n",
    "\n",
    "The @debug directive is used to print messages to the Sass output. It's a handy tool for inspecting variable values, checking the flow of your code, and identifying issues during development.\n",
    "\n",
    "```sass\n",
    "// SCSS Syntax\n",
    "$font-size-base: 16px; // Try changing this value to observe @debug output\n",
    "\n",
    "@function calculate-line-height($font-size) {\n",
    "  @debug \"Calculating line height for font size: #{$font-size}px\";\n",
    "\n",
    "  $line-height-ratio: 1.5; \n",
    "  $line-height: $font-size * $line-height-ratio;\n",
    "\n",
    "  @return $line-height;\n",
    "}\n",
    "body {\n",
    "  font-size: $font-size-base;\n",
    "  line-height: calculate-line-height($font-size-base);\n",
    "}\n",
    "```"
   ]
  },
  {
   "cell_type": "code",
   "execution_count": 2,
   "metadata": {},
   "outputs": [
    {
     "data": {
      "text/html": [
       "<style>\n",
       "  body {\n",
       "    font-size: 16px;\n",
       "    line-height: 24px; /* Calculated line height */\n",
       "  }\n",
       "</style>"
      ]
     },
     "metadata": {},
     "output_type": "display_data"
    }
   ],
   "source": [
    "%%html\n",
    "<style>\n",
    "  body {\n",
    "    font-size: 16px;\n",
    "    line-height: 24px; /* Calculated line height */\n",
    "  }\n",
    "</style>"
   ]
  },
  {
   "cell_type": "markdown",
   "metadata": {},
   "source": [
    "In this example, the @debug statement will print a message to the console during Sass compilation, providing information about the font size being used and assisting in identifying any potential issues."
   ]
  },
  {
   "cell_type": "markdown",
   "metadata": {},
   "source": [
    "## Popcorn Hacks\n",
    "### Popcorn Hack 1:\n",
    "Try changing the primary color to an invalid value (e.g., 'red') and observe the @error message. Then, correct it to a valid color."
   ]
  },
  {
   "cell_type": "markdown",
   "metadata": {},
   "source": [
    "### Popcorn Hack 2:\n",
    "Modify the base font size and observe the @debug message. Try different font sizes and see how it affects the calculated line height."
   ]
  },
  {
   "cell_type": "markdown",
   "metadata": {},
   "source": [
    "# Hacks\n",
    "\n",
    "Define a custom SASS function that uses a for loop in order to slightly decrease the saturation and increase the brightness of a color of your choosing and fill in those increasingly more white colors into a 3x3 array of equal height and width.\n",
    "\n",
    "### Example Image\n",
    "\n",
    "![pixil-frame-0 (1)](https://github.com/Ant11234/student/assets/40652645/509214d6-bf1a-40f7-9028-cfd4b9f212da)"
   ]
  }
 ],
 "metadata": {
  "language_info": {
   "name": "python"
  }
 },
 "nbformat": 4,
 "nbformat_minor": 2
}
