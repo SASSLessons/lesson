{
 "cells": [
  {
   "cell_type": "markdown",
   "metadata": {},
   "source": [
    "# Introduction to SASS\n",
    "\n",
    "SASS (Syntactically Awesome Stylesheets) is a powerful preprocessor scripting language that enhances CSS with advanced features. It's compiled into standard CSS, making it a robust tool for modern web development.\n",
    "\n",
    "## Benefits Over Traditional CSS\n",
    "\n",
    "### Improved Code Organization\n",
    "- **Nesting Capabilities**: SASS allows you to nest your CSS selectors in a way that follows the same visual hierarchy of your HTML.\n",
    "- **Modular Approach**: You can split your CSS into multiple files (partials) and import them into a main file, making your project more organized.\n",
    "- **Readability and Structure**: The syntax of SASS is cleaner and more structured, leading to better readability of code.\n",
    "\n",
    "### Maintainability\n",
    "- **Use of Variables**: Define colors, fonts, and other CSS values as variables for easy updates and consistency across the project.\n",
    "- **Mixins for Reusable Code**: Create reusable pieces of code for things like buttons, forms, which can be included wherever needed.\n",
    "- **Extend/Inheritance**: Share a set of CSS properties from one selector to another, reducing the amount of code you need to write and maintain.\n",
    "\n",
    "### Advanced Features\n",
    "- **Control Directives**: Use if/else statements and for/each loops in your CSS, which are not possible in plain CSS.\n",
    "- **Built-in Functions**: SASS offers functions for color manipulation, mathematics and more, enhancing the functionality of CSS.\n",
    "- **Compatibility**: Automatically handles browser prefixing, ensuring that your styles work across different browsers without extra code."
   ]
  },
  {
   "cell_type": "markdown",
   "metadata": {},
   "source": [
    "# SASS Basics\n",
    "\n",
    "## Preprocessing\n",
    "- **Functionality**: Sass enhances CSS with features like nesting, mixins, inheritance, and more.\n",
    "- **Compilation**: Sass files are preprocessed to generate standard CSS files.\n",
    "- **Usage**: Use the `sass` command in the terminal to compile Sass files. For example, `sass input.scss output.css`.\n",
    "- **Watching Files**: The `--watch` flag allows Sass to monitor files for changes and recompile automatically."
   ]
  },
  {
   "cell_type": "markdown",
   "metadata": {},
   "source": [
    "```sass\n",
    "// Command to compile Sass\n",
    "sass input.scss output.css\n",
    "\n",
    "// Command to watch and compile Sass\n",
    "sass --watch input.scss output.css"
   ]
  },
  {
   "cell_type": "markdown",
   "metadata": {},
   "source": [
    "## Variables\n",
    "- **Purpose**: Store reusable values like colors, fonts, etc.\n",
    "- **Syntax**: Defined with the `$` symbol, e.g., `$primary-color: #333`.\n",
    "- **Advantage**: Simplifies updates and maintains consistency."
   ]
  },
  {
   "cell_type": "markdown",
   "metadata": {},
   "source": [
    "```sass\n",
    "\n",
    "$primary-color: #333\n",
    "body\n",
    "  color: $primary-color"
   ]
  },
  {
   "cell_type": "markdown",
   "metadata": {},
   "source": [
    "## Nesting\n",
    "- **Concept**: Allows CSS selectors to be nested within each other, mirroring HTML structure.\n",
    "- **Caution**: Over-nesting can lead to complicated and hard-to-maintain CSS."
   ]
  },
  {
   "cell_type": "markdown",
   "metadata": {},
   "source": [
    "```sass\n",
    "\n",
    "nav\n",
    "  ul\n",
    "    margin: 0\n",
    "    padding: 0\n",
    "    list-style: none\n",
    "  li\n",
    "    display: inline-block\n",
    "  a\n",
    "    display: block\n",
    "    padding: 6px 12px\n",
    "    text-decoration: none"
   ]
  },
  {
   "cell_type": "markdown",
   "metadata": {},
   "source": [
    "## Partials\n",
    "- **Function**: Small snippets of CSS can be included in other Sass files.\n",
    "- **Naming**: Partial files are named with a leading underscore, e.g., `_partial.scss`.\n",
    "- **Importing**: Use the `@use` rule to include partials in other Sass files."
   ]
  },
  {
   "cell_type": "markdown",
   "metadata": {},
   "source": [
    "```sass\n",
    "\n",
    "// In _partial.sass\n",
    "$font-stack: Helvetica, sans-serif\n",
    "\n",
    "// In main.sass\n",
    "@use 'partial'\n",
    "body\n",
    "  font: 100% partial.$font-stack"
   ]
  },
  {
   "cell_type": "markdown",
   "metadata": {},
   "source": [
    "## Modules\n",
    "- **Splitting Code**: Sass allows splitting code into multiple files.\n",
    "- **@use Rule**: Loads another Sass file as a module, enabling access to its variables, mixins, and functions.\n",
    "- **Namespace**: Refer to module contents using a namespace based on the filename."
   ]
  },
  {
   "cell_type": "markdown",
   "metadata": {},
   "source": [
    "```sass\n",
    "\n",
    "// In _base.sass\n",
    "$primary-color: #333\n",
    "\n",
    "// In styles.sass\n",
    "@use 'base'\n",
    ".inverse\n",
    "  background-color: base.$primary-color\n",
    "  color: white"
   ]
  },
  {
   "cell_type": "markdown",
   "metadata": {},
   "source": [
    "## Mixins\n",
    "- **Purpose**: Create reusable groups of CSS declarations.\n",
    "- **Flexibility**: Mixins can accept values to make them more dynamic.\n",
    "- **Syntax**: Defined with `@mixin` and included with `@include`."
   ]
  },
  {
   "cell_type": "markdown",
   "metadata": {},
   "source": [
    "```sass\n",
    "\n",
    "@mixin border-radius($radius)\n",
    "  -webkit-border-radius: $radius\n",
    "  -moz-border-radius: $radius\n",
    "  border-radius: $radius\n",
    "\n",
    ".box\n",
    "  @include border-radius(10px)"
   ]
  },
  {
   "cell_type": "markdown",
   "metadata": {},
   "source": [
    "## Inheritance and Extend\n",
    "- **@extend**: Share CSS properties between selectors.\n",
    "- **Placeholder Classes**: Special classes that only print when extended, keeping CSS neat.\n",
    "- **Usage**: Helps avoid repetitive class names in HTML."
   ]
  },
  {
   "cell_type": "markdown",
   "metadata": {},
   "source": [
    "```sass\n",
    "\n",
    "%message-shared\n",
    "  border: 1px solid #ccc\n",
    "  padding: 10px\n",
    "  color: #333\n",
    "\n",
    ".message\n",
    "  @extend %message-shared\n",
    "\n",
    ".success\n",
    "  @extend %message-shared\n",
    "  border-color: green"
   ]
  },
  {
   "cell_type": "markdown",
   "metadata": {},
   "source": [
    "## Operators\n",
    "- **Math Operations**: Sass supports standard math operators for calculations within CSS.\n",
    "- **Example**: Calculating widths for a fluid grid using operations like `math.div()`."
   ]
  },
  {
   "cell_type": "markdown",
   "metadata": {},
   "source": [
    "```sass\n",
    "\n",
    ".container\n",
    "  display: flex\n",
    "article[role=\"main\"]\n",
    "  width: 600px / 960px * 100%\n",
    "aside[role=\"complementary\"]\n",
    "  width: 300px / 960px * 100%\n",
    "  margin-left: auto"
   ]
  }
 ],
 "metadata": {
  "language_info": {
   "name": "python"
  }
 },
 "nbformat": 4,
 "nbformat_minor": 2
}
