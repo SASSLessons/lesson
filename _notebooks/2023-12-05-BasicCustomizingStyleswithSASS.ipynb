{
 "cells": [
  {
   "cell_type": "markdown",
   "metadata": {},
   "source": [
    "---\n",
    "toc: true\n",
    "comments: false\n",
    "layout: post\n",
    "title: Customizing Styles with SASS (Basic)\n",
    "description: How to use certain SASS methods to customize styles on a page.\n",
    "type: plans\n",
    "courses: { compsci: {week: 1} }\n",
    "---"
   ]
  },
  {
   "cell_type": "markdown",
   "metadata": {},
   "source": [
    "# Introduction to SASS\n",
    "\n",
    "SASS (Syntactically Awesome Stylesheets) is a powerful preprocessor scripting language that enhances CSS with advanced features. It's compiled into standard CSS, making it a robust tool for modern web development.\n",
    "\n",
    "## Benefits Over Traditional CSS\n",
    "\n",
    "### Improved Code Organization\n",
    "- **Nesting Capabilities**: SASS allows you to nest your CSS selectors in a way that follows the same visual hierarchy of your HTML.\n",
    "- **Modular Approach**: You can split your CSS into multiple files (partials) and import them into a main file, making your project more organized.\n",
    "\n",
    "### Maintainability\n",
    "- **Use of Variables**: Define colors, fonts, and other CSS values as variables for easy updates and consistency across the project.\n",
    "- **Mixins for Reusable Code**: Create reusable pieces of code for things like buttons, forms, which can be included wherever needed.\n",
    "- **Extend/Inheritance**: Share a set of CSS properties from one selector to another, reducing the amount of code you need to write and maintain.\n",
    "\n",
    "### Advanced Features\n",
    "- **Control Directives**: Use if/else statements and for/each loops in your CSS, which are not possible in plain CSS.\n",
    "- **Built-in Functions**: SASS offers functions for color manipulation, mathematics and more, enhancing the functionality of CSS.\n",
    "- **Compatibility**: Automatically handles browser prefixing, ensuring that your styles work across different browsers without extra code.\n",
    "\n",
    "# SASS Basics\n",
    "\n",
    "## Preprocessing\n",
    "- **Functionality**: Sass enhances CSS with features like nesting, mixins, inheritance, and more.\n",
    "- **Compilation**: Sass files are preprocessed to generate standard CSS files.\n",
    "- **Usage**: Use the `sass` command in the terminal to compile Sass files. For example, `sass input.sass output.css`.\n",
    "- **Watching Files**: The `--watch` flag allows Sass to monitor files for changes and recompile automatically.\n",
    "\n",
    "```sass\n",
    "// Command to compile Sass\n",
    "sass input.sass output.css\n",
    "\n",
    "// Command to watch and compile Sass\n",
    "sass --watch input.sass output.css\n",
    "```\n",
    "\n",
    "## Variables\n",
    "- **Purpose**: Store reusable values like colors, fonts, etc.\n",
    "- **Syntax**: Defined with the `$` symbol, e.g., `$primary-color: #333`.\n",
    "- **Advantage**: Simplifies updates and maintains consistency.\n",
    "\n",
    "```sass\n",
    "\n",
    "$primary-color: #333\n",
    "body\n",
    "  color: $primary-color\n",
    "```\n",
    "\n",
    "## Nesting\n",
    "- **Concept**: Allows CSS selectors to be nested within each other, mirroring HTML structure.\n",
    "- **Caution**: Over-nesting can lead to complicated and hard-to-maintain CSS.\n",
    "\n",
    "```sass\n",
    "\n",
    "nav\n",
    "  ul\n",
    "    margin: 0\n",
    "    padding: 0\n",
    "    list-style: none\n",
    "  li\n",
    "    display: inline-block\n",
    "  a\n",
    "    display: block\n",
    "    padding: 6px 12px\n",
    "    text-decoration: none\n",
    "```\n",
    "\n",
    "## Partials\n",
    "- **Function**: Small snippets of CSS can be included in other Sass files.\n",
    "- **Naming**: Partial files are named with a leading underscore, e.g., `_partial.sass`.\n",
    "- **Importing**: Use the `@use` rule to include partials in other Sass files.\n",
    "\n",
    "```sass\n",
    "\n",
    "// In _partial.sass\n",
    "$font-stack: Helvetica, sans-serif\n",
    "\n",
    "// In main.sass\n",
    "@use 'partial'\n",
    "body\n",
    "  font: 100% partial.$font-stack\n",
    "```\n",
    "\n",
    "## Modules\n",
    "- **Splitting Code**: Sass allows splitting code into multiple files.\n",
    "- **@use Rule**: Loads another Sass file as a module, enabling access to its variables, mixins, and functions.\n",
    "- **Namespace**: Refer to module contents using a namespace based on the filename.\n",
    "\n",
    "```sass\n",
    "\n",
    "// In _base.sass\n",
    "$primary-color: #333\n",
    "\n",
    "// In styles.sass\n",
    "@use 'base'\n",
    ".inverse\n",
    "  background-color: base.$primary-color\n",
    "  color: white\n",
    "```\n",
    "\n",
    "## Mixins\n",
    "- **Purpose**: Create reusable groups of CSS declarations.\n",
    "- **Flexibility**: Mixins can accept values to make them more dynamic.\n",
    "- **Syntax**: Defined with `@mixin` and included with `@include`.\n",
    "\n",
    "```sass\n",
    "\n",
    "@mixin border-radius($radius)\n",
    "  -webkit-border-radius: $radius\n",
    "  -moz-border-radius: $radius\n",
    "  border-radius: $radius\n",
    "\n",
    ".box\n",
    "  @include border-radius(10px)\n",
    "```\n",
    "\n",
    "## Inheritance and Extend\n",
    "- **@extend**: Share CSS properties between selectors.\n",
    "- **Placeholder Classes**: Special classes that only print when extended, keeping CSS neat.\n",
    "- **Usage**: Helps avoid repetitive class names in HTML.\n",
    "\n",
    "```sass\n",
    "\n",
    "%message-shared\n",
    "  border: 1px solid #ccc\n",
    "  padding: 10px\n",
    "  color: #333\n",
    "\n",
    ".message\n",
    "  @extend %message-shared\n",
    "\n",
    ".success\n",
    "  @extend %message-shared\n",
    "  border-color: green\n",
    "```\n",
    "\n",
    "## Operators\n",
    "- **Math Operations**: Sass supports standard math operators for calculations within CSS.\n",
    "- **Example**: Calculating widths for a fluid grid using operations like `math.div()`.\n",
    "\n",
    "```sass\n",
    "\n",
    ".container\n",
    "  display: flex\n",
    "article[role=\"main\"]\n",
    "  width: 600px / 960px * 100%\n",
    "aside[role=\"complementary\"]\n",
    "  width: 300px / 960px * 100%\n",
    "  margin-left: auto\n",
    "```"
   ]
  },
  {
   "cell_type": "markdown",
   "metadata": {},
   "source": [
    "## Partials and Modular Styling with SASS\n",
    "\n",
    "### Understanding SASS Partials:\n",
    "\n",
    "SASS partials are separate files containing any specific style or component. They allow for better organization and modularization of styles. They play a very important role in organizing and modularizing styles. \n",
    "\n",
    "Partials are named with a leading underscore (e.g., `_variables.sass`) to indicate that they are meant to be ______ into another stylesheet.\n",
    "\n",
    "### Benefits of Using Partials:\n",
    "\n",
    "1. **Modular Organization:**\n",
    "   - Partials break down stylesheets into smaller files, each focusing on a specific aspect (e.g., variables, typography, layout).\n",
    "   - This modular approach improves code organization, making it easier to maintain and scale.\n",
    "\n",
    "2. **Code Reusability:**\n",
    "   - Partials enable the reuse of styles across multiple files. For example, a `_variables.sass` partial may store color schemes and fonts, allowing for greater consistency.\n",
    "\n",
    "3. **Readability and Collaboration:**\n",
    "   - Smaller files enhance code readability. Developers can quickly locate and understand specific styles.\n",
    "   - Supports ________ development, allowing different team members to work on different partials simultaneously.\n",
    "\n",
    "### Importing Partials into a Main SASS File:\n",
    "\n",
    "To use SASS partials, import them into a main SCSS file using the `@import` directive. The main file (e.g., `main.sass`) serves as the entry point for compiling styles.\n"
   ]
  },
  {
   "cell_type": "markdown",
   "metadata": {},
   "source": [
    "**Importing Partials into a Main SASS File:**\n"
   ]
  },
  {
   "cell_type": "markdown",
   "metadata": {},
   "source": [
    "```sass\n",
    "\n",
    "// main.sass\n",
    "\n",
    "// Importing variables partial\n",
    "@use variables\n",
    "\n",
    "// Importing typography partial\n",
    "@use typography\n",
    "\n",
    "// Importing layout partial\n",
    "@use layout\n",
    "\n",
    "// Importing components partial\n",
    "@use components"
   ]
  },
  {
   "cell_type": "markdown",
   "metadata": {},
   "source": [
    "## Variables in SASS\n",
    "\n",
    "### Introduction to Variables:\n",
    "\n",
    "SASS variables provide a way to store information for later use in a stylesheet. They offer several advantages, including enhanced maintainability and consistency, by allowing you to define values in ______ location.\n",
    "\n",
    "\n",
    "\n",
    "### Variable Syntax:\n",
    "\n",
    "In SASS, variables are declared using the '$' symbol followed by the variable name. Once a variable is defined, its value can be reused throughout the stylesheet.\n",
    "\n"
   ]
  },
  {
   "cell_type": "markdown",
   "metadata": {},
   "source": [
    "**Variable Syntax:**"
   ]
  },
  {
   "cell_type": "markdown",
   "metadata": {},
   "source": [
    "```scss\n",
    "// _variables.sass\n",
    "\n",
    "// Define variables\n",
    "$primary-color: #3498db\n",
    "$secondary-color: #2ecc71\n",
    "\n",
    "// Use variables\n",
    "body\n",
    "  background-color: $primary-color\n",
    "\n",
    ".button\n",
    "  background-color: $secondary-color\n",
    "  color: #fff\n"
   ]
  },
  {
   "cell_type": "markdown",
   "metadata": {},
   "source": [
    "### SASS Variable Scope:\n",
    "\n",
    "Variable scope is similar to the range in which a variable is accessible. By default, variables are local to the file in which they are defined. However, you can create a **GLOBAL VARIABLE**:\n",
    "\n",
    "By default, variables are local to the scope in which they are defined. However, the !global flag can be used to create global variables. Global variables are accessible throughout the entire stylesheet."
   ]
  },
  {
   "cell_type": "markdown",
   "metadata": {},
   "source": [
    "**Global Variables:**"
   ]
  },
  {
   "cell_type": "markdown",
   "metadata": {},
   "source": [
    "```scss\n",
    "// _variables.sass\n",
    "\n",
    "// Local variable\n",
    "$local-font-size: 16px !default\n",
    "\n",
    "// Global variable\n",
    "$global-font-size: 18px !global\n"
   ]
  },
  {
   "cell_type": "markdown",
   "metadata": {},
   "source": [
    "**Variable Scope:**"
   ]
  },
  {
   "cell_type": "markdown",
   "metadata": {},
   "source": [
    "```scss\n",
    "\n",
    "// styles.sass\n",
    "\n",
    "// Importing variables partial\n",
    "@use 'variables'\n",
    "\n",
    "$font-size: 14px // Global variable\n",
    "\n",
    "body\n",
    "  font-size: $font-size // Accessing the global variable\n",
    "\n",
    ".container\n",
    "  $font-size: $local-font-size // Local variable within .container scope\n",
    "  font-size: $global-font-size // Accessing the global variable\n",
    "\n"
   ]
  },
  {
   "cell_type": "markdown",
   "metadata": {},
   "source": [
    "# Nested techniques\n",
    "\n",
    "Basic Nesting:"
   ]
  },
  {
   "cell_type": "markdown",
   "metadata": {},
   "source": [
    "```scss\n",
    "\n",
    "// SCSS Syntax\n",
    "nav {\n",
    "  background-color: #333;\n",
    "\n",
    "  ul {\n",
    "    list-style: none;\n",
    "    padding: 0;\n",
    "    margin: 0;\n",
    "\n",
    "    li {\n",
    "      display: inline-block;\n",
    "      margin-right: 10px;\n",
    "\n",
    "      a {\n",
    "        text-decoration: none;\n",
    "        color: #fff;\n",
    "      }\n",
    "    }\n",
    "  }\n",
    "}\n"
   ]
  },
  {
   "cell_type": "markdown",
   "metadata": {},
   "source": [
    "In this example, the CSS output will be:"
   ]
  },
  {
   "cell_type": "markdown",
   "metadata": {},
   "source": [
    "```scss\n",
    "\n",
    "nav {\n",
    "  background-color: #333;\n",
    "}\n",
    "\n",
    "nav ul {\n",
    "  list-style: none;\n",
    "  padding: 0;\n",
    "  margin: 0;\n",
    "}\n",
    "\n",
    "nav ul li {\n",
    "  display: inline-block;\n",
    "  margin-right: 10px;\n",
    "}\n",
    "\n",
    "nav ul li a {\n",
    "  text-decoration: none;\n",
    "  color: #fff;\n",
    "}\n"
   ]
  },
  {
   "cell_type": "markdown",
   "metadata": {},
   "source": [
    "Many CSS properties have the same prefix, like font-family, font-size and font-weight or text-align, text-transform and text-overflow.\n",
    "\n",
    "With SASS you can write them as nested properties:"
   ]
  },
  {
   "cell_type": "markdown",
   "metadata": {},
   "source": [
    "```scss\n",
    "\n",
    "font: {\n",
    "  family: Helvetica, sans-serif;\n",
    "  size: 18px;\n",
    "  weight: bold;\n",
    "}\n",
    "\n",
    "text: {\n",
    "  align: center;\n",
    "  transform: lowercase;\n",
    "  overflow: hidden;\n",
    "}"
   ]
  },
  {
   "cell_type": "markdown",
   "metadata": {},
   "source": [
    "The SASS transpiler will convert the above to normal CSS:"
   ]
  },
  {
   "cell_type": "markdown",
   "metadata": {},
   "source": [
    "```scss\n",
    "\n",
    "font-family: Helvetica, sans-serif;\n",
    "font-size: 18px;\n",
    "font-weight: bold;\n",
    "\n",
    "text-align: center;\n",
    "text-transform: lowercase;\n",
    "text-overflow: hidden;"
   ]
  }
 ],
 "metadata": {
  "kernelspec": {
   "display_name": "Bash",
   "language": "bash",
   "name": "bash"
  },
  "language_info": {
   "codemirror_mode": "shell",
   "file_extension": ".sh",
   "mimetype": "text/x-sh",
   "name": "bash"
  }
 },
 "nbformat": 4,
 "nbformat_minor": 2
}
