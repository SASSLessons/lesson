{
 "cells": [
  {
   "cell_type": "markdown",
   "metadata": {},
   "source": [
    "---\n",
    "toc: true\n",
    "comments: false\n",
    "layout: post\n",
    "title: Customizing Styles with SASS (Basic)\n",
    "description: How to use certain SASS methods to customize styles on a page.\n",
    "type: plans\n",
    "courses: { compsci: {week: 1} }\n",
    "---"
   ]
  },
  {
   "cell_type": "markdown",
   "metadata": {},
   "source": [
    "## Partials and Modular Styling with SASS\n",
    "\n",
    "### Understanding SASS Partials:\n",
    "\n",
    "SASS partials are separate files containing any specific style or component. They allow for better organization and modularization of styles. They play a very important role in organizing and modularizing styles. \n",
    "\n",
    "Partials are named with a leading underscore (e.g., `_variables.sass`) to indicate that they are meant to be ______ into another stylesheet.\n",
    "\n",
    "### Benefits of Using Partials:\n",
    "\n",
    "1. **Modular Organization:**\n",
    "   - Partials break down stylesheets into smaller files, each focusing on a specific aspect (e.g., variables, typography, layout).\n",
    "   - This modular approach improves code organization, making it easier to maintain and scale.\n",
    "\n",
    "2. **Code Reusability:**\n",
    "   - Partials enable the reuse of styles across multiple files. For example, a `_variables.sass` partial may store color schemes and fonts, allowing for greater consistency.\n",
    "\n",
    "3. **Readability and Collaboration:**\n",
    "   - Smaller files enhance code readability. Developers can quickly locate and understand specific styles.\n",
    "   - Supports ________ development, allowing different team members to work on different partials simultaneously.\n",
    "\n",
    "### Importing Partials into a Main SASS File:\n",
    "\n",
    "To use SASS partials, import them into a main SCSS file using the `@import` directive. The main file (e.g., `main.sass`) serves as the entry point for compiling styles.\n"
   ]
  },
  {
   "cell_type": "markdown",
   "metadata": {},
   "source": [
    "**Importing Partials into a Main SASS File:**\n"
   ]
  },
  {
   "cell_type": "markdown",
   "metadata": {},
   "source": [
    "```sass\n",
    "\n",
    "// main.sass\n",
    "\n",
    "// Importing variables partial\n",
    "@use variables\n",
    "\n",
    "// Importing typography partial\n",
    "@use typography\n",
    "\n",
    "// Importing layout partial\n",
    "@use layout\n",
    "\n",
    "// Importing components partial\n",
    "@use components"
   ]
  },
  {
   "cell_type": "markdown",
   "metadata": {},
   "source": [
    "## Variables in SASS\n",
    "\n",
    "### Introduction to Variables:\n",
    "\n",
    "SASS variables provide a way to store information for later use in a stylesheet. They offer several advantages, including enhanced maintainability and consistency, by allowing you to define values in ______ location.\n",
    "\n",
    "\n",
    "\n",
    "### Variable Syntax:\n",
    "\n",
    "In SASS, variables are declared using the '$' symbol followed by the variable name. Once a variable is defined, its value can be reused throughout the stylesheet.\n",
    "\n"
   ]
  },
  {
   "cell_type": "markdown",
   "metadata": {},
   "source": [
    "**Variable Syntax:**"
   ]
  },
  {
   "cell_type": "markdown",
   "metadata": {},
   "source": [
    "```scss\n",
    "// _variables.sass\n",
    "\n",
    "// Define variables\n",
    "$primary-color: #3498db\n",
    "$secondary-color: #2ecc71\n",
    "\n",
    "// Use variables\n",
    "body\n",
    "  background-color: $primary-color\n",
    "\n",
    ".button\n",
    "  background-color: $secondary-color\n",
    "  color: #fff\n"
   ]
  },
  {
   "cell_type": "markdown",
   "metadata": {},
   "source": [
    "### SASS Variable Scope:\n",
    "\n",
    "Variable scope is similar to the range in which a variable is accessible. By default, variables are local to the file in which they are defined. However, you can create a **GLOBAL VARIABLE**:\n",
    "\n",
    "By default, variables are local to the scope in which they are defined. However, the !global flag can be used to create global variables. Global variables are accessible throughout the entire stylesheet."
   ]
  },
  {
   "cell_type": "markdown",
   "metadata": {},
   "source": [
    "**Global Variables:**"
   ]
  },
  {
   "cell_type": "markdown",
   "metadata": {},
   "source": [
    "```scss\n",
    "// _variables.sass\n",
    "\n",
    "// Local variable\n",
    "$local-font-size: 16px !default\n",
    "\n",
    "// Global variable\n",
    "$global-font-size: 18px !global\n"
   ]
  },
  {
   "cell_type": "markdown",
   "metadata": {},
   "source": [
    "**Variable Scope:**"
   ]
  },
  {
   "cell_type": "markdown",
   "metadata": {},
   "source": [
    "```scss\n",
    "\n",
    "// styles.sass\n",
    "\n",
    "// Importing variables partial\n",
    "@use 'variables'\n",
    "\n",
    "$font-size: 14px // Global variable\n",
    "\n",
    "body\n",
    "  font-size: $font-size // Accessing the global variable\n",
    "\n",
    ".container\n",
    "  $font-size: $local-font-size // Local variable within .container scope\n",
    "  font-size: $global-font-size // Accessing the global variable\n",
    "\n"
   ]
  },
  {
   "cell_type": "markdown",
   "metadata": {},
   "source": [
    "# Nested techniques\n",
    "\n",
    "Basic Nesting:"
   ]
  },
  {
   "cell_type": "markdown",
   "metadata": {},
   "source": [
    "```scss\n",
    "\n",
    "// SCSS Syntax\n",
    "nav {\n",
    "  background-color: #333;\n",
    "\n",
    "  ul {\n",
    "    list-style: none;\n",
    "    padding: 0;\n",
    "    margin: 0;\n",
    "\n",
    "    li {\n",
    "      display: inline-block;\n",
    "      margin-right: 10px;\n",
    "\n",
    "      a {\n",
    "        text-decoration: none;\n",
    "        color: #fff;\n",
    "      }\n",
    "    }\n",
    "  }\n",
    "}\n"
   ]
  },
  {
   "cell_type": "markdown",
   "metadata": {},
   "source": [
    "In this example, the CSS output will be:"
   ]
  },
  {
   "cell_type": "markdown",
   "metadata": {},
   "source": [
    "```scss\n",
    "\n",
    "nav {\n",
    "  background-color: #333;\n",
    "}\n",
    "\n",
    "nav ul {\n",
    "  list-style: none;\n",
    "  padding: 0;\n",
    "  margin: 0;\n",
    "}\n",
    "\n",
    "nav ul li {\n",
    "  display: inline-block;\n",
    "  margin-right: 10px;\n",
    "}\n",
    "\n",
    "nav ul li a {\n",
    "  text-decoration: none;\n",
    "  color: #fff;\n",
    "}\n"
   ]
  },
  {
   "cell_type": "markdown",
   "metadata": {},
   "source": [
    "Many CSS properties have the same prefix, like font-family, font-size and font-weight or text-align, text-transform and text-overflow.\n",
    "\n",
    "With SASS you can write them as nested properties:"
   ]
  },
  {
   "cell_type": "markdown",
   "metadata": {},
   "source": [
    "```scss\n",
    "\n",
    "font: {\n",
    "  family: Helvetica, sans-serif;\n",
    "  size: 18px;\n",
    "  weight: bold;\n",
    "}\n",
    "\n",
    "text: {\n",
    "  align: center;\n",
    "  transform: lowercase;\n",
    "  overflow: hidden;\n",
    "}"
   ]
  },
  {
   "cell_type": "markdown",
   "metadata": {},
   "source": [
    "The SASS transpiler will convert the above to normal CSS:"
   ]
  },
  {
   "cell_type": "markdown",
   "metadata": {},
   "source": [
    "```scss\n",
    "\n",
    "font-family: Helvetica, sans-serif;\n",
    "font-size: 18px;\n",
    "font-weight: bold;\n",
    "\n",
    "text-align: center;\n",
    "text-transform: lowercase;\n",
    "text-overflow: hidden;"
   ]
  },
  {
   "cell_type": "markdown",
   "metadata": {},
   "source": [
    "# Flexbox and Grid Integration\n",
    "\n",
    "Flexbox and Grid are two powerful layout systems in CSS that allow for responsive design and complex layouts with less effort.\n",
    "\n",
    "### Flexbox\n",
    "- **Purpose**: Designed for ____-dimensional layouts (either ____ or ____).\n",
    "\n",
    "### Grid\n",
    "- **Purpose**: Designed for ____-dimensional layouts (____ and ____ together).\n",
    "\n",
    "## Simplifying Responsive Layouts with SASS\n",
    "\n",
    "SASS enhances the use of Flexbox and Grid by allowing more organized and maintainable stylesheets.\n",
    "\n",
    "- **Variables and Mixins**: Use SASS variables and mixins to create reusable Flexbox and Grid styles.\n",
    "- **Nesting**: Nest media queries within selectors for responsive design.\n",
    "- **Functions**: Use SASS functions to calculate flexible dimensions and spacings.\n",
    "\n",
    "### Demonstration: Complex Flexbox Layout with SASS\n",
    "\n",
    "```sass\n",
    "\n",
    "// Define variables\n",
    "$primary-color: #333\n",
    "$secondary-color: #777\n",
    "$padding: 10px\n",
    "\n",
    "// Mixin for flex container\n",
    "@mixin flex-container\n",
    "  display: flex\n",
    "  justify-content: space-between\n",
    "  padding: $padding\n",
    "\n",
    "// Main container\n",
    ".main-container\n",
    "  @include flex-container\n",
    "  background-color: $primary-color\n",
    "\n",
    "  // Nested items\n",
    "  .item\n",
    "    flex: 1\n",
    "    margin: 5px\n",
    "    background-color: $secondary-color\n",
    "    &:hover\n",
    "      background-color: darken($secondary-color, 10%)\n",
    "\n",
    "```\n",
    "\n",
    "### Demonstration: Responsive Grid Layout with SASS\n",
    "\n",
    "```sass\n",
    "\n",
    "// Grid container\n",
    ".grid-container\n",
    "  display: grid\n",
    "  grid-template-columns: repeat(3, 1fr)\n",
    "  gap: 10px\n",
    "\n",
    "  // Responsive adjustment\n",
    "  @media (max-width: 600px)\n",
    "    grid-template-columns: repeat(2, 1fr)\n",
    "\n",
    "  // Grid items\n",
    "  .grid-item\n",
    "    background-color: $primary-color\n",
    "    padding: $padding\n",
    "    &:hover\n",
    "      background-color: lighten($primary-color, 10%)\n",
    "\n",
    "\n",
    "```\n",
    "\n",
    "### Hacks\n",
    "\n",
    "Create a grid layout that automatically adjusts the number of columns based on the screen size, using SASS variables and functions.\n"
   ]
  }
 ],
 "metadata": {
  "kernelspec": {
   "display_name": "Bash",
   "language": "bash",
   "name": "bash"
  },
  "language_info": {
   "codemirror_mode": "shell",
   "file_extension": ".sh",
   "mimetype": "text/x-sh",
   "name": "bash"
  }
 },
 "nbformat": 4,
 "nbformat_minor": 2
}
