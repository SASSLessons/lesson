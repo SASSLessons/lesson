{
 "cells": [
  {
   "cell_type": "markdown",
   "metadata": {},
   "source": [
    "---\n",
    "toc: true\n",
    "comments: false\n",
    "layout: post\n",
    "title: Customizing Styles with SASS (Basic)\n",
    "description: How to use certain SASS methods to customize styles on a page.\n",
    "type: plans\n",
    "courses: { compsci: {week: 1} }\n",
    "---"
   ]
  },
  {
   "cell_type": "markdown",
   "metadata": {},
   "source": [
    "## Partials and Modular Styling with SASS\n",
    "\n",
    "### Understanding SASS Partials:\n",
    "\n",
    "SASS partials are separate files containing any specific style or component. They allow for better organization and modularization of styles. They play a very important role in organizing and modularizing styles. \n",
    "\n",
    "Partials are named with a leading underscore (e.g., `_variables.sass`) to indicate that they are meant to be ______ into another stylesheet.\n",
    "\n",
    "### Benefits of Using Partials:\n",
    "\n",
    "1. **Modular Organization:**\n",
    "   - Partials break down stylesheets into smaller files, each focusing on a specific aspect (e.g., variables, typography, layout).\n",
    "   - This modular approach improves code organization, making it easier to maintain and scale.\n",
    "\n",
    "2. **Code Reusability:**\n",
    "   - Partials enable the reuse of styles across multiple files. For example, a `_variables.sass` partial may store color schemes and fonts, allowing for greater consistency.\n",
    "\n",
    "3. **Readability and Collaboration:**\n",
    "   - Smaller files enhance code readability. Developers can quickly locate and understand specific styles.\n",
    "   - Supports ________ development, allowing different team members to work on different partials simultaneously.\n",
    "\n",
    "### Importing Partials into a Main SASS File:\n",
    "\n",
    "To use SASS partials, import them into a main SCSS file using the `@import` directive. The main file (e.g., `main.sass`) serves as the entry point for compiling styles.\n"
   ]
  },
  {
   "cell_type": "markdown",
   "metadata": {},
   "source": [
    "**Importing Partials into a Main SASS File:**\n"
   ]
  },
  {
   "cell_type": "markdown",
   "metadata": {},
   "source": [
    "```sass\n",
    "\n",
    "// main.sass\n",
    "\n",
    "// Importing variables partial\n",
    "@use variables\n",
    "\n",
    "// Importing typography partial\n",
    "@use typography\n",
    "\n",
    "// Importing layout partial\n",
    "@use layout\n",
    "\n",
    "// Importing components partial\n",
    "@use components"
   ]
  },
  {
   "cell_type": "markdown",
   "metadata": {},
   "source": [
    "## Variables in SASS\n",
    "\n",
    "### Introduction to Variables:\n",
    "\n",
    "SASS variables provide a way to store information for later use in a stylesheet. They offer several advantages, including enhanced maintainability and consistency, by allowing you to define values in ______ location.\n",
    "\n",
    "\n",
    "\n",
    "### Variable Syntax:\n",
    "\n",
    "In SASS, variables are declared using the '$' symbol followed by the variable name. Once a variable is defined, its value can be reused throughout the stylesheet.\n",
    "\n"
   ]
  },
  {
   "cell_type": "markdown",
   "metadata": {},
   "source": [
    "**Variable Syntax:**"
   ]
  },
  {
   "cell_type": "markdown",
   "metadata": {},
   "source": [
    "```scss\n",
    "// _variables.sass\n",
    "\n",
    "// Define variables\n",
    "$primary-color: #3498db\n",
    "$secondary-color: #2ecc71\n",
    "\n",
    "// Use variables\n",
    "body\n",
    "  background-color: $primary-color\n",
    "\n",
    ".button\n",
    "  background-color: $secondary-color\n",
    "  color: #fff\n"
   ]
  },
  {
   "cell_type": "markdown",
   "metadata": {},
   "source": [
    "### SASS Variable Scope:\n",
    "\n",
    "Variable scope is similar to the range in which a variable is accessible. By default, variables are local to the file in which they are defined. However, you can create a **GLOBAL VARIABLE**:\n",
    "\n",
    "By default, variables are local to the scope in which they are defined. However, the !global flag can be used to create global variables. Global variables are accessible throughout the entire stylesheet."
   ]
  },
  {
   "cell_type": "markdown",
   "metadata": {},
   "source": [
    "**Global Variables:**"
   ]
  },
  {
   "cell_type": "markdown",
   "metadata": {},
   "source": [
    "```scss\n",
    "// _variables.sass\n",
    "\n",
    "// Local variable\n",
    "$local-font-size: 16px !default\n",
    "\n",
    "// Global variable\n",
    "$global-font-size: 18px !global\n"
   ]
  },
  {
   "cell_type": "markdown",
   "metadata": {},
   "source": [
    "**Variable Scope:**"
   ]
  },
  {
   "cell_type": "markdown",
   "metadata": {},
   "source": [
    "```scss\n",
    "\n",
    "// styles.sass\n",
    "\n",
    "// Importing variables partial\n",
    "@use 'variables'\n",
    "\n",
    "$font-size: 14px // Global variable\n",
    "\n",
    "body\n",
    "  font-size: $font-size // Accessing the global variable\n",
    "\n",
    ".container\n",
    "  $font-size: $local-font-size // Local variable within .container scope\n",
    "  font-size: $global-font-size // Accessing the global variable\n",
    "\n"
   ]
  }
 ],
 "metadata": {
  "language_info": {
   "name": "python"
  }
 },
 "nbformat": 4,
 "nbformat_minor": 2
}
